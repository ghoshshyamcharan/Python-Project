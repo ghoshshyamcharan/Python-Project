{
 "cells": [
  {
   "cell_type": "code",
   "execution_count": null,
   "id": "cb1a2866-7a2d-4392-b7b2-f2c94f8035d7",
   "metadata": {},
   "outputs": [],
   "source": [
    "import cv2\n",
    "import mediapipe as mp\n",
    "import time\n",
    "\n",
    "wCam,hCam = 1280,720\n",
    "\n",
    "cap=cv2.VideoCapture(0)\n",
    "\n",
    "mpHands = mp.solutions.hands\n",
    "hands = mpHands.Hands()\n",
    "mpDraw = mp.solutions.drawing_utils\n",
    "cap.set(3,wCam)\n",
    "cap.set(4,wCam)\n",
    "pTime = 0\n",
    "cTime = 0\n",
    "\n",
    "\n",
    "\n",
    "while True:\n",
    "    success, img = cap.read()\n",
    "    imgRGB = cv2.cvtColor(img, cv2.COLOR_BGR2RGB)\n",
    "    results = hands.process(imgRGB)\n",
    "    cTime = time.time()\n",
    "    fps = 1 / (cTime-pTime)\n",
    "    pTime = cTime\n",
    "\n",
    "    cv2.putText(img, f'FPS:{int(fps)}',(40,50), cv2.FONT_HERSHEY_COMPLEX, 1,(255,0,0), 3)\n",
    "   #print(results.multi_hand_landmarks)\n",
    "\n",
    "\n",
    "    if results.multi_hand_landmarks:\n",
    "        for handLms in results.multi_hand_landmarks:\n",
    "         mpDraw.draw_landmarks(img,handLms, mpHands.HAND_CONNECTIONS)\n",
    "    \n",
    "\n",
    "\n",
    "    cv2.imshow(\"Image\" , img)\n",
    "\n",
    "    cv2.waitKey(1)"
   ]
  },
  {
   "cell_type": "code",
   "execution_count": null,
   "id": "f8ae76cd-d98b-42f7-baa8-d091bc87bb19",
   "metadata": {},
   "outputs": [],
   "source": []
  }
 ],
 "metadata": {
  "kernelspec": {
   "display_name": "Python [conda env:base] *",
   "language": "python",
   "name": "conda-base-py"
  },
  "language_info": {
   "codemirror_mode": {
    "name": "ipython",
    "version": 3
   },
   "file_extension": ".py",
   "mimetype": "text/x-python",
   "name": "python",
   "nbconvert_exporter": "python",
   "pygments_lexer": "ipython3",
   "version": "3.12.7"
  }
 },
 "nbformat": 4,
 "nbformat_minor": 5
}
